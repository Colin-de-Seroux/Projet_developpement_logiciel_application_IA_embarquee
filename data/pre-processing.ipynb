{
 "cells": [
  {
   "cell_type": "markdown",
   "metadata": {
    "vscode": {
     "languageId": "plaintext"
    }
   },
   "source": [
    "# Pré-traitement du jeu de données"
   ]
  },
  {
   "cell_type": "markdown",
   "metadata": {},
   "source": [
    "## Installation des dépendances"
   ]
  },
  {
   "cell_type": "code",
   "execution_count": 13,
   "metadata": {},
   "outputs": [
    {
     "name": "stdout",
     "output_type": "stream",
     "text": [
      "Requirement already satisfied: pillow in /home/jake/miniconda3/envs/projet_developpement_application_IA_embarquee/lib/python3.9/site-packages (11.0.0)\n",
      "Note: you may need to restart the kernel to use updated packages.\n"
     ]
    }
   ],
   "source": [
    "%pip install pillow"
   ]
  },
  {
   "cell_type": "markdown",
   "metadata": {},
   "source": [
    "## Importation des dépendances"
   ]
  },
  {
   "cell_type": "code",
   "execution_count": 14,
   "metadata": {},
   "outputs": [],
   "source": [
    "import os\n",
    "from PIL import Image, ImageOps\n",
    "import shutil"
   ]
  },
  {
   "cell_type": "markdown",
   "metadata": {},
   "source": [
    "## Code"
   ]
  },
  {
   "cell_type": "markdown",
   "metadata": {},
   "source": [
    "### Fonctions principales"
   ]
  },
  {
   "cell_type": "code",
   "execution_count": 15,
   "metadata": {},
   "outputs": [],
   "source": [
    "def create_output_repository(output_path: str) -> None:\n",
    "    \"\"\"\n",
    "    Permet de recréer le répertoire au propre.\n",
    "    \n",
    "    :param output_path: Chemin du répertoire.\n",
    "    \"\"\"\n",
    "    \n",
    "    if os.path.exists(output_path):\n",
    "        shutil.rmtree(output_path)\n",
    "    \n",
    "    os.makedirs(output_path)\n",
    "    os.makedirs(f\"{output_path}/train\")\n",
    "    os.makedirs(f\"{output_path}/val\")\n",
    "    os.makedirs(f\"{output_path}/test\")"
   ]
  },
  {
   "cell_type": "code",
   "execution_count": 16,
   "metadata": {},
   "outputs": [],
   "source": [
    "def convert_to_png(image_path: str) -> str:\n",
    "    \"\"\"\n",
    "    Converti une image en PNG.\n",
    "    \n",
    "    :param image_path: Chemin de l'image à convertire.\n",
    "    \"\"\"\n",
    "    \n",
    "    try:\n",
    "        with Image.open(image_path) as img:\n",
    "            # Générer le chemin de sortie avec la même base mais l'extension .png\n",
    "            base_name, _ = os.path.splitext(image_path)\n",
    "            output_path = base_name + \".png\"\n",
    "            \n",
    "            # Sauvegarder l'image au format PNG\n",
    "            img.save(output_path, \"PNG\")\n",
    "            \n",
    "            return output_path\n",
    "    except Exception as e:\n",
    "        print(f\"Erreur lors de la conversion de {image_path} : {e}\")"
   ]
  },
  {
   "cell_type": "code",
   "execution_count": 17,
   "metadata": {},
   "outputs": [],
   "source": [
    "def resize_with_padding(image_path: str, output_path: str, size: int = 640) -> None:\n",
    "    \"\"\"\n",
    "    Redimensionne une image tout en conservant ses proportions et ajoute du padding pour obtenir un carré de dimensions size x size.\n",
    "    \n",
    "    :param image_path: Chemin de l'image d'entrée.\n",
    "    :param output_path: Chemin où sauvegarder l'image transformée.\n",
    "    :param size: Taille du carré cible (par défaut 640).\n",
    "    \"\"\"\n",
    "    \n",
    "    image_path = convert_to_png(image_path)\n",
    "    \n",
    "    with Image.open(image_path) as img:\n",
    "        # Convertir en mode RGB si nécessaire (prévention des problèmes avec les images en niveaux de gris ou alpha)\n",
    "        img = img.convert(\"RGB\")\n",
    "\n",
    "        # Récupérer les dimensions de l'image\n",
    "        original_width, original_height = img.size\n",
    "\n",
    "        # Calculer le ratio d'échelle tout en conservant les proportions\n",
    "        scale = min(size / original_width, size / original_height)\n",
    "        new_width = int(original_width * scale)\n",
    "        new_height = int(original_height * scale)\n",
    "\n",
    "        # Redimensionner l'image tout en conservant les proportions\n",
    "        img_resized = img.resize((new_width, new_height), Image.LANCZOS)\n",
    "\n",
    "        # Ajouter du padding pour atteindre la taille cible\n",
    "        padding_left = (size - new_width) // 2\n",
    "        padding_top = (size - new_height) // 2\n",
    "        padding_right = size - new_width - padding_left\n",
    "        padding_bottom = size - new_height - padding_top\n",
    "\n",
    "        # Ajouter des bords noirs (padding)\n",
    "        img_padded = ImageOps.expand(img_resized, \n",
    "                                     border=(padding_left, padding_top, padding_right, padding_bottom), \n",
    "                                     fill=(0, 0, 0))\n",
    "\n",
    "        # Sauvegarder l'image résultante\n",
    "        img_padded.save(output_path)"
   ]
  },
  {
   "cell_type": "code",
   "execution_count": 18,
   "metadata": {},
   "outputs": [],
   "source": [
    "def processing_folder(input_folder: str, output_folder: str) -> None:\n",
    "    \"\"\"\n",
    "    Boucle sur un répertoire pour déplacer / redimensionner au bon endroit les images.\n",
    "    \n",
    "    :param input_folder: Chemin du répertoire d'entrée.\n",
    "    :param ouput_folder: Chemin du répertoire de sortie.\n",
    "    \"\"\"\n",
    "\n",
    "    for filename in os.listdir(input_folder):\n",
    "        input_path = os.path.join(input_folder, filename)\n",
    "\n",
    "        if os.path.isdir(input_path):\n",
    "            output_path = os.path.join(output_folder, filename)\n",
    "            \n",
    "            processing_folder(input_path, output_path)\n",
    "        else:\n",
    "            folder = os.path.basename(output_folder)\n",
    "            base_name, _ = os.path.splitext(filename)\n",
    "            new_filename = f\"{folder}_{base_name}.png\"\n",
    "            dirname = os.path.dirname(output_folder)\n",
    "            output_path = os.path.join(dirname, new_filename)\n",
    "            \n",
    "            resize_with_padding(input_path, output_path)"
   ]
  },
  {
   "cell_type": "markdown",
   "metadata": {},
   "source": [
    "<span style=\"color:red\">Il faut absolument automatiser cela !!! (ça n'existe pas, il faut créer une solution)</span>"
   ]
  },
  {
   "cell_type": "code",
   "execution_count": 19,
   "metadata": {},
   "outputs": [],
   "source": [
    "def get_annotation(image_path: str) -> list:\n",
    "    \"\"\"\n",
    "    Récupère les annotations codées en dur pour une image donnée.\n",
    "    \n",
    "    :param image_path: Chemin de l'image.\n",
    "    :return: Liste des boîtes englobantes sous forme [(xmin, ymin, xmax, ymax)].\n",
    "    \"\"\"\n",
    "    \n",
    "    annotations = {} # TODO remplir automatique\n",
    "    \n",
    "    image_name = image_path.split('/')[-1]\n",
    "    \n",
    "    return annotations.get(image_name, [[0, 0, 640, 640]])"
   ]
  },
  {
   "cell_type": "code",
   "execution_count": 20,
   "metadata": {},
   "outputs": [],
   "source": [
    "def add_labels(input_folder: str, classes_dict: dict) -> None:\n",
    "    \"\"\"\n",
    "    Crée les fichiers .txt pour chaque image dans le répertoire de sortie pour l'entraînement YOLO.\n",
    "    \n",
    "    :param input_folder: Chemin du répertoire contenant les images.\n",
    "    :param classes_dict: Dictionnaire des classes avec leurs noms.\n",
    "    :param output_folder: Chemin du répertoire où les fichiers .txt seront sauvegardés.\n",
    "    \"\"\"\n",
    "    \n",
    "    output_folder = input_folder.replace(\"images\", \"labels\")\n",
    "    \n",
    "    for filename in os.listdir(input_folder):\n",
    "        input_path = os.path.join(input_folder, filename)\n",
    "\n",
    "        if os.path.isdir(input_path):            \n",
    "            add_labels(input_path, classes_dict)\n",
    "        else:\n",
    "            class_name = filename.split('_')[0]\n",
    "            \n",
    "            if class_name not in classes_dict:\n",
    "                class_id = classes_dict[\"notfound\"]\n",
    "            else:\n",
    "                class_id = classes_dict[class_name]\n",
    "            \n",
    "            label_file = os.path.join(output_folder, f\"{filename.split('.')[0]}.txt\")\n",
    "            \n",
    "            annotations = get_annotation(filename)\n",
    "            \n",
    "            with open(label_file, 'w') as f:\n",
    "                for annotation in annotations:\n",
    "                    # Normaliser les coordonnées\n",
    "                    xmin, ymin, xmax, ymax = annotation\n",
    "                        \n",
    "                    # Obtenir la taille de l'image\n",
    "                    with Image.open(input_path) as img:\n",
    "                        width, height = img.size\n",
    "                            \n",
    "                    # Calculer les coordonnées normalisées (entre 0 et 1)\n",
    "                    x_center = (xmin + xmax) / 2 / width\n",
    "                    y_center = (ymin + ymax) / 2 / height\n",
    "                    obj_width = (xmax - xmin) / width\n",
    "                    obj_height = (ymax - ymin) / height\n",
    "                        \n",
    "                    # Écrire l'annotation dans le fichier\n",
    "                    f.write(f\"{class_id} {x_center} {y_center} {obj_width} {obj_height}\\n\")\n"
   ]
  },
  {
   "cell_type": "markdown",
   "metadata": {},
   "source": [
    "### Environnement"
   ]
  },
  {
   "cell_type": "code",
   "execution_count": 21,
   "metadata": {},
   "outputs": [],
   "source": [
    "input_folder = \"./dataset1/images_base\"\n",
    "output_folder = \"./dataset1/images_converted\"\n",
    "classes_dict = { \"SpeedLimit30\": 0, \"SpeedLimit50\": 1, \"SpeedLimit70\": 2, \"SpeedLimit80\": 3, \"SpeedLimit90\": 4, \"SpeedLimit110\": 5, \"SpeedLimit130\": 6 }"
   ]
  },
  {
   "cell_type": "markdown",
   "metadata": {},
   "source": [
    "### Lancement"
   ]
  },
  {
   "cell_type": "code",
   "execution_count": 22,
   "metadata": {},
   "outputs": [],
   "source": [
    "create_output_repository(output_folder)"
   ]
  },
  {
   "cell_type": "code",
   "execution_count": 23,
   "metadata": {},
   "outputs": [],
   "source": [
    "processing_folder(input_folder, output_folder)"
   ]
  },
  {
   "cell_type": "code",
   "execution_count": 24,
   "metadata": {},
   "outputs": [],
   "source": [
    "# add_labels(output_folder, classes_dict)"
   ]
  }
 ],
 "metadata": {
  "kernelspec": {
   "display_name": "projet_developpement_application_IA_embarquee",
   "language": "python",
   "name": "python3"
  },
  "language_info": {
   "codemirror_mode": {
    "name": "ipython",
    "version": 3
   },
   "file_extension": ".py",
   "mimetype": "text/x-python",
   "name": "python",
   "nbconvert_exporter": "python",
   "pygments_lexer": "ipython3",
   "version": "3.9.20"
  }
 },
 "nbformat": 4,
 "nbformat_minor": 2
}
