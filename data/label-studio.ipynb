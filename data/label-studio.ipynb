{
 "cells": [
  {
   "cell_type": "markdown",
   "metadata": {},
   "source": [
    "# Liaison avec label-studio"
   ]
  },
  {
   "cell_type": "markdown",
   "metadata": {},
   "source": [
    "## Installation des dépendances"
   ]
  },
  {
   "cell_type": "markdown",
   "metadata": {},
   "source": [
    "## Importation des dépendances"
   ]
  },
  {
   "cell_type": "code",
   "execution_count": 3,
   "metadata": {},
   "outputs": [],
   "source": [
    "import json\n",
    "import os"
   ]
  },
  {
   "cell_type": "markdown",
   "metadata": {},
   "source": [
    "## Code"
   ]
  },
  {
   "cell_type": "markdown",
   "metadata": {},
   "source": [
    "TODO liaison avec label-studio pour l'envoi des images et la récupération."
   ]
  },
  {
   "cell_type": "markdown",
   "metadata": {},
   "source": [
    "### Environnement"
   ]
  },
  {
   "cell_type": "code",
   "execution_count": 4,
   "metadata": {},
   "outputs": [],
   "source": [
    "classes_dict = { \"SpeedLimit30\": 0, \"SpeedLimit50\": 1, \"SpeedLimit70\": 2, \"SpeedLimit80\": 3, \"SpeedLimit90\": 4, \"SpeedLimit110\": 5, \"SpeedLimit130\": 6 }"
   ]
  },
  {
   "cell_type": "markdown",
   "metadata": {},
   "source": [
    "### Fonctions principales"
   ]
  },
  {
   "cell_type": "code",
   "execution_count": 5,
   "metadata": {},
   "outputs": [],
   "source": [
    "def rename_files_in_directory(directory_path: str) -> None:\n",
    "    \"\"\" \n",
    "    Renomme les fichiers venant de label-studio.\n",
    "\n",
    "    :param directory_path: Le chemin du dossier contenant les fichiers à renommer.\n",
    "    \"\"\"\n",
    "\n",
    "    for filename in os.listdir(directory_path):\n",
    "        # Récupérer la partie après le premier underscore\n",
    "        new_name = filename.split('-', 1)[1]\n",
    "                    \n",
    "        # Obtenir le chemin complet des fichiers\n",
    "        old_file_path = os.path.join(directory_path, filename)\n",
    "        new_file_path = os.path.join(directory_path, new_name)\n",
    "\n",
    "        # Renommer le fichier\n",
    "        os.rename(old_file_path, new_file_path)\n"
   ]
  },
  {
   "cell_type": "code",
   "execution_count": null,
   "metadata": {},
   "outputs": [],
   "source": [
    "def normalization(directory_path: str) -> None:\n",
    "    \"\"\"\n",
    "    Normalise les fichiers venant de label-studio (remet les classes à 0, 1, 2, 3, 4, 5, 6 dans l'ordre).\n",
    "\n",
    "    :param directory_path: Le chemin du dossier contenant les fichiers à normaliser.\n",
    "    \"\"\"\n",
    "\n",
    "    # Renommer les classes\n",
    "    for filename in os.listdir(f\"{directory_path}/labels\"):\n",
    "        file = os.path.join(f\"{directory_path}/labels\", filename)\n",
    "\n",
    "        with open(file, \"r+\") as f:\n",
    "            content = f.readlines()\n",
    "            f.seek(0)\n",
    "\n",
    "            for line in content:\n",
    "                words = line.split()\n",
    "\n",
    "                if words:\n",
    "                    words[0] = words[0] + '0'\n",
    "\n",
    "                f.write(' '.join(words) + \"\\n\")\n",
    "\n",
    "            f.truncate()\n",
    "\n",
    "    # Load the JSON file\n",
    "    json_file_path = os.path.join(directory_path, \"notes.json\")\n",
    "\n",
    "    with open(json_file_path, 'r') as file:\n",
    "        data = json.load(file)\n",
    "\n",
    "        categories = data[\"categories\"]\n",
    "\n",
    "        for category in categories:\n",
    "            old_id = category[\"id\"]\n",
    "            new_id = classes_dict[category[\"name\"]]\n",
    "\n",
    "\n",
    "            for filename in os.listdir(f\"{directory_path}/labels\"):\n",
    "                file = os.path.join(f\"{directory_path}/labels\", filename)\n",
    "\n",
    "                with open(file, \"r+\") as f:\n",
    "                    content = f.readlines()\n",
    "                    f.seek(0)\n",
    "\n",
    "                    for line in content:\n",
    "                        words = line.split()\n",
    "\n",
    "                        if words:\n",
    "                            if words[0] == str(old_id) + '0':\n",
    "                                words[0] = str(new_id)\n",
    "\n",
    "                        f.write(' '.join(words) + \"\\n\")\n",
    "\n",
    "                    f.truncate()\n",
    "    "
   ]
  },
  {
   "cell_type": "markdown",
   "metadata": {},
   "source": [
    "### Lancement du code"
   ]
  },
  {
   "cell_type": "code",
   "execution_count": 59,
   "metadata": {},
   "outputs": [],
   "source": [
    "# rename_files_in_directory(\"./dataset1/images_labels/train/images\")\n",
    "# rename_files_in_directory(\"./dataset1/images_labels/train/labels\")\n",
    "\n",
    "# rename_files_in_directory(\"./dataset1/images_labels/val/images\")\n",
    "# rename_files_in_directory(\"./dataset1/images_labels/val/labels\")"
   ]
  },
  {
   "cell_type": "code",
   "execution_count": 61,
   "metadata": {},
   "outputs": [],
   "source": [
    "normalization(\"./project-1\")"
   ]
  }
 ],
 "metadata": {
  "kernelspec": {
   "display_name": "projet_developpement_application_IA_embarquee",
   "language": "python",
   "name": "python3"
  },
  "language_info": {
   "codemirror_mode": {
    "name": "ipython",
    "version": 3
   },
   "file_extension": ".py",
   "mimetype": "text/x-python",
   "name": "python",
   "nbconvert_exporter": "python",
   "pygments_lexer": "ipython3",
   "version": "3.9.20"
  }
 },
 "nbformat": 4,
 "nbformat_minor": 2
}
