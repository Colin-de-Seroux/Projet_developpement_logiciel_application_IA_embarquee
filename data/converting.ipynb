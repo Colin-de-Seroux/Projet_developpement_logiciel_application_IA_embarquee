{
 "cells": [
  {
   "cell_type": "markdown",
   "metadata": {},
   "source": [
    "# Conversion des images"
   ]
  },
  {
   "cell_type": "markdown",
   "metadata": {},
   "source": [
    "## Installation des dépendances"
   ]
  },
  {
   "cell_type": "code",
   "execution_count": null,
   "metadata": {},
   "outputs": [],
   "source": [
    "%pip install pillow"
   ]
  },
  {
   "cell_type": "markdown",
   "metadata": {},
   "source": [
    "## Importation des dépendances"
   ]
  },
  {
   "cell_type": "code",
   "execution_count": null,
   "metadata": {},
   "outputs": [],
   "source": [
    "import os\n",
    "from PIL import Image"
   ]
  },
  {
   "cell_type": "markdown",
   "metadata": {},
   "source": [
    "## Code"
   ]
  },
  {
   "cell_type": "code",
   "execution_count": null,
   "metadata": {},
   "outputs": [],
   "source": [
    "def convert_image(root: str, file: str, new_output_dir: str) -> None:\n",
    "    \"\"\"\n",
    "    Converti une image PPM en PNG et la redimensionne en 640x640\n",
    "\n",
    "    :param root : Chemin du dossier contenant l'image\n",
    "    :param file : Nom de l'image\n",
    "    :param new_output_dir : Chemin du dossier de sortie\n",
    "    \"\"\"\n",
    "\n",
    "    # Conversion de l'image\n",
    "    img = Image.open(os.path.join(root, file))\n",
    "    img = img.resize((640, 640))\n",
    "                \n",
    "    # Sauvegarde de l'image convertie\n",
    "    new_file_path = os.path.join(new_output_dir, f\"{os.path.splitext(file)[0]}.png\")\n",
    "    img.save(new_file_path, \"PNG\")\n",
    "\n",
    "    # Création du fichier .txt correspondant\n",
    "    parent_folder_name = os.path.basename(root)\n",
    "\n",
    "    try:\n",
    "        class_id = int(parent_folder_name)\n",
    "    except ValueError:\n",
    "        class_id = -1\n",
    "\n",
    "    txt_content = f\"{class_id} {320} {320} {640} {640}\\n\"\n",
    "    txt_file_path = os.path.join(new_output_dir, f\"{os.path.splitext(file)[0]}.txt\")\n",
    "    \n",
    "    with open(txt_file_path, \"w\") as txt_file:\n",
    "        txt_file.write(txt_content)\n",
    "\n",
    "    "
   ]
  },
  {
   "cell_type": "code",
   "execution_count": null,
   "metadata": {},
   "outputs": [],
   "source": [
    "def convert_images(input_dir: str, output_dir: str) -> None:\n",
    "    \"\"\"\n",
    "    Converti toutes les images PPM d'un dossier en PNG et les redimensionne en 640x640\n",
    "    \n",
    "    :param input_dir : Chemin du dossier contenant les images PPM\n",
    "    :param output_dir : Chemin du dossier de sortie\n",
    "    \"\"\"\n",
    "\n",
    "    # Vérifie si le dossier de sortie existe, sinon le crée\n",
    "    if not os.path.exists(output_dir):\n",
    "        os.makedirs(output_dir)\n",
    "    \n",
    "    for root, dirs, files in os.walk(input_dir):\n",
    "        for file in files:\n",
    "            if file.endswith(\".ppm\"):\n",
    "                relative_path = os.path.relpath(root, input_dir)\n",
    "                new_output_dir = os.path.join(output_dir, relative_path)\n",
    "\n",
    "                if not os.path.exists(new_output_dir):\n",
    "                    os.makedirs(new_output_dir)\n",
    "\n",
    "                convert_image(root, file, new_output_dir)"
   ]
  },
  {
   "cell_type": "code",
   "execution_count": null,
   "metadata": {},
   "outputs": [],
   "source": [
    "convert_images(\"NonConverted\", \"Converted\")"
   ]
  }
 ],
 "metadata": {
  "kernelspec": {
   "display_name": "projet_developpement_application_IA_embarquee",
   "language": "python",
   "name": "python3"
  },
  "language_info": {
   "codemirror_mode": {
    "name": "ipython",
    "version": 3
   },
   "file_extension": ".py",
   "mimetype": "text/x-python",
   "name": "python",
   "nbconvert_exporter": "python",
   "pygments_lexer": "ipython3",
   "version": "3.9.20"
  }
 },
 "nbformat": 4,
 "nbformat_minor": 2
}
