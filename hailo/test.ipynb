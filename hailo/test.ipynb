{
 "cells": [
  {
   "cell_type": "markdown",
   "metadata": {},
   "source": [
    "# Test de modèles\n"
   ]
  },
  {
   "cell_type": "markdown",
   "metadata": {},
   "source": [
    "@Author Colin de Seroux\n"
   ]
  },
  {
   "cell_type": "markdown",
   "metadata": {},
   "source": [
    "## <span style=\"color:lightblue\">Installation des dépendances</span>\n"
   ]
  },
  {
   "cell_type": "code",
   "execution_count": null,
   "metadata": {},
   "outputs": [],
   "source": [
    "%pip install -q -r requirements.txt"
   ]
  },
  {
   "cell_type": "markdown",
   "metadata": {},
   "source": [
    "## <span style=\"color:lightblue\">Importation des dépendances</span>\n"
   ]
  },
  {
   "cell_type": "code",
   "execution_count": 1,
   "metadata": {},
   "outputs": [],
   "source": [
    "import json\n",
    "import os\n",
    "import time"
   ]
  },
  {
   "cell_type": "markdown",
   "metadata": {},
   "source": [
    "## <span style=\"color:lightblue\">Code principale</span>\n"
   ]
  },
  {
   "cell_type": "markdown",
   "metadata": {},
   "source": [
    "### <span style=\"color:lightgreen\">Environnement</span>\n"
   ]
  },
  {
   "cell_type": "code",
   "execution_count": 6,
   "metadata": {},
   "outputs": [],
   "source": [
    "DATASET_PATH = \"../data/dataset4/test/images/\"\n",
    "MODEL_NAME = \"yolov8n_trained.hef\"\n",
    "PLATFORM = \"hailo8l\"\n",
    "PREDICTIONS_FILE = f\"../results/predictions/predictions_{PLATFORM}_{MODEL_NAME}.json\""
   ]
  },
  {
   "cell_type": "markdown",
   "metadata": {},
   "source": [
    "### <span style=\"color:lightgreen\">Récupération du temps d'initialisation du modèle pour 1 image</span>\n"
   ]
  },
  {
   "cell_type": "code",
   "execution_count": null,
   "metadata": {},
   "outputs": [],
   "source": [
    "if os.path.exists(PREDICTIONS_FILE):\n",
    "    os.remove(PREDICTIONS_FILE)\n",
    "\n",
    "start = time.time()\n",
    "!python ./object_detection.py -n ./yolov8n.hef -i \"{DATASET_PATH}0a1cf82b-686.png\" -l \"labels.txt\"\n",
    "end = time.time()\n",
    "\n",
    "run = end - start\n",
    "\n",
    "print(\"Run :\", run)"
   ]
  },
  {
   "cell_type": "markdown",
   "metadata": {},
   "source": [
    "### <span style=\"color:lightgreen\">Prédictions des bbox</span>\n"
   ]
  },
  {
   "cell_type": "code",
   "execution_count": null,
   "metadata": {},
   "outputs": [],
   "source": [
    "os.remove(PREDICTIONS_FILE)\n",
    "\n",
    "start = time.time()\n",
    "!python ./object_detection.py -n ./yolov8n.hef -i \"{DATASET_PATH}\" -l \"labels.txt\"\n",
    "end = time.time()\n",
    "\n",
    "total = (end - start) - run\n",
    "\n",
    "print(\"Total :\", total)"
   ]
  },
  {
   "cell_type": "markdown",
   "metadata": {},
   "source": [
    "### <span style=\"color:lightgreen\">Ajout du temps d'inférence moyen</span>\n"
   ]
  },
  {
   "cell_type": "code",
   "execution_count": 8,
   "metadata": {},
   "outputs": [],
   "source": [
    "with open(PREDICTIONS_FILE, 'r') as file:\n",
    "    predictions = json.load(file)\n",
    "\n",
    "num_images = len([name for name in os.listdir(DATASET_PATH) if os.path.isfile(os.path.join(DATASET_PATH, name))])\n",
    "\n",
    "inference_time = total / num_images * 1000\n",
    "\n",
    "for prediction in predictions:\n",
    "    prediction[\"inference_time\"] = inference_time\n",
    "\n",
    "with open(PREDICTIONS_FILE, 'w') as file:\n",
    "    json.dump(predictions, file, indent=4)"
   ]
  },
  {
   "cell_type": "markdown",
   "metadata": {},
   "source": [
    "## <span style=\"color:lightblue\">Sources</span>\n"
   ]
  }
 ],
 "metadata": {
  "kernelspec": {
   "display_name": "test",
   "language": "python",
   "name": "python3"
  },
  "language_info": {
   "codemirror_mode": {
    "name": "ipython",
    "version": 3
   },
   "file_extension": ".py",
   "mimetype": "text/x-python",
   "name": "python",
   "nbconvert_exporter": "python",
   "pygments_lexer": "ipython3",
   "version": "3.9.21"
  }
 },
 "nbformat": 4,
 "nbformat_minor": 2
}
