{
 "cells": [
  {
   "cell_type": "markdown",
   "metadata": {},
   "source": [
    "# Transforme les bbox YOLO en bbox COCO\n"
   ]
  },
  {
   "cell_type": "markdown",
   "metadata": {},
   "source": [
    "@Author Colin de Seroux\n"
   ]
  },
  {
   "cell_type": "markdown",
   "metadata": {},
   "source": [
    "## <span style=\"color:lightblue\">Installation des dépendances</span>\n"
   ]
  },
  {
   "cell_type": "code",
   "execution_count": null,
   "metadata": {},
   "outputs": [],
   "source": [
    "%pip install -q -r requirements.txt"
   ]
  },
  {
   "cell_type": "markdown",
   "metadata": {},
   "source": [
    "## <span style=\"color:lightblue\">Importation des dépendances</span>\n"
   ]
  },
  {
   "cell_type": "code",
   "execution_count": 29,
   "metadata": {},
   "outputs": [],
   "source": [
    "import json"
   ]
  },
  {
   "cell_type": "markdown",
   "metadata": {},
   "source": [
    "## <span style=\"color:lightblue\">Code principale</span>\n"
   ]
  },
  {
   "cell_type": "markdown",
   "metadata": {},
   "source": [
    "### <span style=\"color:lightgreen\">Environnement</sapn>\n"
   ]
  },
  {
   "cell_type": "code",
   "execution_count": 30,
   "metadata": {},
   "outputs": [],
   "source": [
    "ANNOTATIONS_PATH = \"../data/dataset4/test/result.json\"\n",
    "PREDICTIONS_PATH = \"./predictions/predictions_i7-11800H_yolo11n_trained.onnx.json\""
   ]
  },
  {
   "cell_type": "markdown",
   "metadata": {},
   "source": [
    "### <span style=\"color:lightgreen\">Chargement des fichiers</sapn>\n"
   ]
  },
  {
   "cell_type": "code",
   "execution_count": 31,
   "metadata": {},
   "outputs": [],
   "source": [
    "with open(ANNOTATIONS_PATH, 'r') as f:\n",
    "    result_data = json.load(f)\n",
    "\n",
    "with open(PREDICTIONS_PATH, 'r') as f:\n",
    "    prediction_data = json.load(f)"
   ]
  },
  {
   "cell_type": "markdown",
   "metadata": {},
   "source": [
    "### <span style=\"color:lightgreen\">Transformation des bbox</span>\n"
   ]
  },
  {
   "cell_type": "markdown",
   "metadata": {},
   "source": [
    "Dictionnaire de la taille de chaque image.\n"
   ]
  },
  {
   "cell_type": "code",
   "execution_count": 32,
   "metadata": {},
   "outputs": [],
   "source": [
    "image_sizes = {image[\"id\"]: (image[\"width\"], image[\"height\"]) for image in result_data[\"images\"]}"
   ]
  },
  {
   "cell_type": "markdown",
   "metadata": {},
   "source": [
    "Transformation en bbox.\n"
   ]
  },
  {
   "cell_type": "code",
   "execution_count": 33,
   "metadata": {},
   "outputs": [],
   "source": [
    "annotations = []\n",
    "\n",
    "for prediction in prediction_data:\n",
    "    image_id = prediction[\"image_id\"]\n",
    "    bbox = prediction[\"bbox\"]\n",
    "    \n",
    "    width, height = image_sizes[image_id]\n",
    "    \n",
    "    x_center, y_center, bbox_width, bbox_height = bbox\n",
    "    x_min = x_center * width\n",
    "    y_min = y_center * height\n",
    "    bbox_width = bbox_width * width\n",
    "    bbox_height = bbox_height * height\n",
    "    \n",
    "    annotation = {\n",
    "        \"image_id\": image_id,\n",
    "        \"category_id\": prediction[\"category_id\"],\n",
    "        \"bbox\": [x_min, y_min, bbox_width, bbox_height],\n",
    "        \"score\": prediction[\"score\"],\n",
    "        \"inference_time\": prediction[\"inference_time\"]\n",
    "    }\n",
    "    \n",
    "    annotations.append(annotation)"
   ]
  },
  {
   "cell_type": "markdown",
   "metadata": {},
   "source": [
    "Sauvegarde des annotations dans un nouveau fichier.\n"
   ]
  },
  {
   "cell_type": "code",
   "execution_count": 34,
   "metadata": {},
   "outputs": [],
   "source": [
    "with open(\"converted_annotations.json\", 'w') as f:\n",
    "    json.dump(annotations, f, indent=4)"
   ]
  },
  {
   "cell_type": "markdown",
   "metadata": {},
   "source": [
    "## <span style=\"color:lightblue\">Sources</span>\n"
   ]
  }
 ],
 "metadata": {
  "kernelspec": {
   "display_name": "test",
   "language": "python",
   "name": "python3"
  },
  "language_info": {
   "codemirror_mode": {
    "name": "ipython",
    "version": 3
   },
   "file_extension": ".py",
   "mimetype": "text/x-python",
   "name": "python",
   "nbconvert_exporter": "python",
   "pygments_lexer": "ipython3",
   "version": "3.9.21"
  }
 },
 "nbformat": 4,
 "nbformat_minor": 2
}
