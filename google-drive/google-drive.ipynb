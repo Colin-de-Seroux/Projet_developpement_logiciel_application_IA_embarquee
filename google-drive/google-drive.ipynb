{
 "cells": [
  {
   "cell_type": "markdown",
   "metadata": {},
   "source": [
    "# Liaison avec le Google Drive"
   ]
  },
  {
   "cell_type": "markdown",
   "metadata": {},
   "source": [
    "## Installation des dépendances"
   ]
  },
  {
   "cell_type": "code",
   "execution_count": null,
   "metadata": {},
   "outputs": [],
   "source": []
  },
  {
   "cell_type": "markdown",
   "metadata": {},
   "source": [
    "## Importation des dépendances"
   ]
  },
  {
   "cell_type": "code",
   "execution_count": 1,
   "metadata": {},
   "outputs": [],
   "source": [
    "from googleapiclient.discovery import build\n",
    "from googleapiclient.http import MediaFileUpload, MediaIoBaseDownload\n",
    "from google.oauth2 import service_account\n",
    "import io\n",
    "import os"
   ]
  },
  {
   "cell_type": "markdown",
   "metadata": {},
   "source": [
    "## Code"
   ]
  },
  {
   "cell_type": "markdown",
   "metadata": {},
   "source": [
    "### Environnement"
   ]
  },
  {
   "cell_type": "code",
   "execution_count": 2,
   "metadata": {},
   "outputs": [],
   "source": [
    "SHARED_DRIVE_ID = \"1y7Xik1Wj7yzqLtRMfABDSzwxWewRlbiK\""
   ]
  },
  {
   "cell_type": "markdown",
   "metadata": {},
   "source": [
    "### Initialisation de la connexion au drive"
   ]
  },
  {
   "cell_type": "code",
   "execution_count": 3,
   "metadata": {},
   "outputs": [],
   "source": [
    "credentials = service_account.Credentials.from_service_account_file(\n",
    "        \"credentials.json\", scopes=[\"https://www.googleapis.com/auth/drive\"]\n",
    "    )\n",
    "drive = build(\"drive\", \"v3\", credentials=credentials)"
   ]
  },
  {
   "cell_type": "markdown",
   "metadata": {},
   "source": [
    "### Fonctions principales"
   ]
  },
  {
   "cell_type": "code",
   "execution_count": 4,
   "metadata": {},
   "outputs": [],
   "source": [
    "def get_or_create_folder_in_shared_drive(folder_name: str, parent: str = SHARED_DRIVE_ID) -> dict:\n",
    "    \"\"\" \n",
    "    Réccupère un dossier dans le drive partagé ou le crée s'il n'existe pas.\n",
    "\n",
    "    :param folder_name: Nom du dossier à récupérer ou à créer\n",
    "    :param parents: Liste des parents du dossier\n",
    "    \"\"\"\n",
    "\n",
    "    query = f\"mimeType='application/vnd.google-apps.folder' and name='{folder_name}' and '{parent}' in parents\"\n",
    "\n",
    "    results = drive.files().list(q=query, spaces=\"drive\").execute().get(\"files\", [])\n",
    "\n",
    "    if results:\n",
    "        return results[0]\n",
    "    \n",
    "    folder_metadata = {\n",
    "        \"name\": folder_name,\n",
    "        \"parents\": [parent],\n",
    "        \"mimeType\": \"application/vnd.google-apps.folder\"\n",
    "    }\n",
    "    \n",
    "    folder = drive.files().create(body=folder_metadata, fields=\"id\").execute()\n",
    "    \n",
    "    return folder"
   ]
  },
  {
   "cell_type": "code",
   "execution_count": 5,
   "metadata": {},
   "outputs": [],
   "source": [
    "def upload_file_or_folder(local_path: str, parent: str = SHARED_DRIVE_ID) -> None:\n",
    "    \"\"\"\n",
    "    Upload un fichier ou un dossier dans le drive partagé.\n",
    "    \n",
    "    :param local_path: Chemin du fichier ou du dossier à uploader\n",
    "    :param parent: ID du dossier parent\n",
    "    \"\"\"\n",
    "    \n",
    "    if os.path.isdir(local_path):\n",
    "        folder_name = os.path.basename(local_path)\n",
    "        folder = get_or_create_folder_in_shared_drive(folder_name, parent)\n",
    "\n",
    "        for item in os.listdir(local_path):\n",
    "            item_path = os.path.join(local_path, item)\n",
    "            upload_file_or_folder(item_path, folder[\"id\"])\n",
    "    else:\n",
    "        file_name = os.path.basename(local_path)\n",
    "\n",
    "        file_exists = False\n",
    "        file_id = None\n",
    "\n",
    "        results = drive.files().list(q=f\"'{parent}' in parents and name = '{file_name}'\", fields=\"files(id, name)\").execute()\n",
    "        files = results.get(\"files\", [])\n",
    "\n",
    "        if files:\n",
    "            file_exists = True\n",
    "            file_id = files[0][\"id\"]\n",
    "\n",
    "        if file_exists:\n",
    "            drive.files().delete(fileId=file_id).execute()\n",
    "  \n",
    "        file_metadata = {\n",
    "            \"name\": file_name,\n",
    "            \"parents\": [parent]\n",
    "        }\n",
    "\n",
    "        media = MediaFileUpload(local_path, resumable=True)\n",
    "        drive.files().create(body=file_metadata, media_body=media, fields=\"id\").execute()\n",
    "\n",
    "        print(f\"Fichier uploadé : {local_path}\")"
   ]
  },
  {
   "cell_type": "code",
   "execution_count": 6,
   "metadata": {},
   "outputs": [],
   "source": [
    "def list_files_in_folder(folder_id: str) -> list:\n",
    "    \"\"\"\n",
    "    Liste les fichiers présents dans un dossier.\n",
    "\n",
    "    :param folder_id: ID du dossier\n",
    "    \"\"\"\n",
    "    \n",
    "    query = f\"'{folder_id}' in parents\"\n",
    "    results = drive.files().list(q=query, fields=\"nextPageToken, files(id, name, mimeType)\").execute()\n",
    "    items = results.get(\"files\", [])\n",
    "    \n",
    "    return items"
   ]
  },
  {
   "cell_type": "code",
   "execution_count": 7,
   "metadata": {},
   "outputs": [],
   "source": [
    "def download_file(file_id: str, file_name: str, download_path: str) -> None:\n",
    "    \"\"\"\n",
    "    Télécharge un fichier depuis le drive partagé.\n",
    "\n",
    "    :param file_id: ID du fichier\n",
    "    :param file_name: Nom du fichier\n",
    "    :param download_path: Chemin où le fichier sera téléchargé\n",
    "    \"\"\"\n",
    "\n",
    "    request = drive.files().get_media(fileId=file_id)\n",
    "    fh = io.FileIO(os.path.join(download_path, file_name), \"wb\")\n",
    "    downloader = MediaIoBaseDownload(fh, request)\n",
    "    \n",
    "    done = False\n",
    "\n",
    "    while done is False:\n",
    "        status, done = downloader.next_chunk()\n",
    "        print(f\"Download {file_name}: {int(status.progress() * 100)}%.\")\n",
    "\n",
    "    print(f\"Downloaded {file_name} to {download_path}\")"
   ]
  },
  {
   "cell_type": "code",
   "execution_count": 8,
   "metadata": {},
   "outputs": [],
   "source": [
    "def download_folder(folder_id: str, download_path: str) -> None:\n",
    "    \"\"\"\n",
    "    Télécharge le dossier dans le chemin spécifié.\n",
    "\n",
    "    :param folder_id: ID du dossier\n",
    "    :param download_path: Chemin du dossier de destination\n",
    "    \"\"\"\n",
    "    \n",
    "    if not os.path.exists(download_path):\n",
    "        os.makedirs(download_path)\n",
    "    \n",
    "    items = list_files_in_folder(folder_id)\n",
    "    \n",
    "    for item in items:\n",
    "        if item[\"mimeType\"] == \"application/vnd.google-apps.folder\":\n",
    "            subfolder_path = os.path.join(download_path, item[\"name\"])\n",
    "            download_folder(item[\"id\"], subfolder_path)\n",
    "        else:\n",
    "            download_file(item[\"id\"], item[\"name\"], download_path)"
   ]
  },
  {
   "cell_type": "code",
   "execution_count": 9,
   "metadata": {},
   "outputs": [],
   "source": [
    "def upload_dataset(dataset: str) -> None:\n",
    "    \"\"\"\n",
    "    Upload un dataset dans le drive partagé.\n",
    "    \n",
    "    :param dataset: Nom du dataset à uploader\n",
    "    \"\"\"\n",
    "    \n",
    "    parent = get_or_create_folder_in_shared_drive(dataset)\n",
    "    upload_file_or_folder(f\"../data/{dataset}/images_labels\", parent[\"id\"])\n",
    "    upload_file_or_folder(f\"../data/{dataset}/data.yaml\", parent[\"id\"])"
   ]
  },
  {
   "cell_type": "markdown",
   "metadata": {},
   "source": [
    "### Lancement du code"
   ]
  },
  {
   "cell_type": "markdown",
   "metadata": {},
   "source": [
    "Il ne faut pas être préssé avec les vérifications / suppréssions. Je les fais un par un pour ne pas destabilisé mon Google Colab durant son entrainement / test."
   ]
  },
  {
   "cell_type": "code",
   "execution_count": 10,
   "metadata": {},
   "outputs": [
    {
     "name": "stdout",
     "output_type": "stream",
     "text": [
      "Fichier uploadé : ../data/dataset1/images_labels/train/labels/50_003.txt\n",
      "Fichier uploadé : ../data/dataset1/images_labels/train/labels/50_012.txt\n",
      "Fichier uploadé : ../data/dataset1/images_labels/train/labels/30_004.txt\n",
      "Fichier uploadé : ../data/dataset1/images_labels/train/labels/30_003.txt\n",
      "Fichier uploadé : ../data/dataset1/images_labels/train/labels/30_007.txt\n",
      "Fichier uploadé : ../data/dataset1/images_labels/train/labels/50_009.txt\n",
      "Fichier uploadé : ../data/dataset1/images_labels/train/labels/50_015.txt\n",
      "Fichier uploadé : ../data/dataset1/images_labels/train/labels/50_002.txt\n",
      "Fichier uploadé : ../data/dataset1/images_labels/train/labels/50_007.txt\n",
      "Fichier uploadé : ../data/dataset1/images_labels/train/labels/50_019.txt\n",
      "Fichier uploadé : ../data/dataset1/images_labels/train/labels/30_012.txt\n",
      "Fichier uploadé : ../data/dataset1/images_labels/train/labels/50_010.txt\n",
      "Fichier uploadé : ../data/dataset1/images_labels/train/labels/50_005.txt\n",
      "Fichier uploadé : ../data/dataset1/images_labels/train/labels/30_019.txt\n",
      "Fichier uploadé : ../data/dataset1/images_labels/train/labels/50_018.txt\n",
      "Fichier uploadé : ../data/dataset1/images_labels/train/labels/50_016.txt\n",
      "Fichier uploadé : ../data/dataset1/images_labels/train/labels/30_005.txt\n",
      "Fichier uploadé : ../data/dataset1/images_labels/train/labels/50_014.txt\n",
      "Fichier uploadé : ../data/dataset1/images_labels/train/labels/30_006.txt\n",
      "Fichier uploadé : ../data/dataset1/images_labels/train/labels/30_010.txt\n",
      "Fichier uploadé : ../data/dataset1/images_labels/train/labels/30_014.txt\n",
      "Fichier uploadé : ../data/dataset1/images_labels/train/labels/50_008.txt\n",
      "Fichier uploadé : ../data/dataset1/images_labels/train/labels/30_008.txt\n",
      "Fichier uploadé : ../data/dataset1/images_labels/train/labels/50_013.txt\n",
      "Fichier uploadé : ../data/dataset1/images_labels/train/labels/30_011.txt\n",
      "Fichier uploadé : ../data/dataset1/images_labels/train/labels/50_004.txt\n",
      "Fichier uploadé : ../data/dataset1/images_labels/train/labels/30_017.txt\n",
      "Fichier uploadé : ../data/dataset1/images_labels/train/labels/50_011.txt\n",
      "Fichier uploadé : ../data/dataset1/images_labels/train/labels/30_020.txt\n",
      "Fichier uploadé : ../data/dataset1/images_labels/train/labels/30_016.txt\n",
      "Fichier uploadé : ../data/dataset1/images_labels/train/labels/50_017.txt\n",
      "Fichier uploadé : ../data/dataset1/images_labels/train/labels/30_013.txt\n",
      "Fichier uploadé : ../data/dataset1/images_labels/train/labels/30_015.txt\n",
      "Fichier uploadé : ../data/dataset1/images_labels/train/labels/50_006.txt\n",
      "Fichier uploadé : ../data/dataset1/images_labels/train/labels/30_018.txt\n",
      "Fichier uploadé : ../data/dataset1/images_labels/train/labels/30_002.txt\n",
      "Fichier uploadé : ../data/dataset1/images_labels/train/labels/30_009.txt\n",
      "Fichier uploadé : ../data/dataset1/images_labels/train/labels/50_001.txt\n",
      "Fichier uploadé : ../data/dataset1/images_labels/train/labels/50_020.txt\n",
      "Fichier uploadé : ../data/dataset1/images_labels/train/labels/30_001.txt\n",
      "Fichier uploadé : ../data/dataset1/images_labels/train/images/50_006.png\n",
      "Fichier uploadé : ../data/dataset1/images_labels/train/images/30_017.png\n",
      "Fichier uploadé : ../data/dataset1/images_labels/train/images/30_007.png\n",
      "Fichier uploadé : ../data/dataset1/images_labels/train/images/50_002.png\n",
      "Fichier uploadé : ../data/dataset1/images_labels/train/images/50_008.png\n",
      "Fichier uploadé : ../data/dataset1/images_labels/train/images/30_005.png\n",
      "Fichier uploadé : ../data/dataset1/images_labels/train/images/50_016.png\n",
      "Fichier uploadé : ../data/dataset1/images_labels/train/images/30_008.png\n",
      "Fichier uploadé : ../data/dataset1/images_labels/train/images/30_013.png\n",
      "Fichier uploadé : ../data/dataset1/images_labels/train/images/30_002.png\n",
      "Fichier uploadé : ../data/dataset1/images_labels/train/images/50_001.png\n",
      "Fichier uploadé : ../data/dataset1/images_labels/train/images/50_015.png\n",
      "Fichier uploadé : ../data/dataset1/images_labels/train/images/50_018.png\n",
      "Fichier uploadé : ../data/dataset1/images_labels/train/images/30_019.png\n",
      "Fichier uploadé : ../data/dataset1/images_labels/train/images/30_006.png\n",
      "Fichier uploadé : ../data/dataset1/images_labels/train/images/30_010.png\n",
      "Fichier uploadé : ../data/dataset1/images_labels/train/images/30_004.png\n",
      "Fichier uploadé : ../data/dataset1/images_labels/train/images/30_020.png\n",
      "Fichier uploadé : ../data/dataset1/images_labels/train/images/30_009.png\n",
      "Fichier uploadé : ../data/dataset1/images_labels/train/images/30_011.png\n",
      "Fichier uploadé : ../data/dataset1/images_labels/train/images/30_018.png\n",
      "Fichier uploadé : ../data/dataset1/images_labels/train/images/50_010.png\n",
      "Fichier uploadé : ../data/dataset1/images_labels/train/images/50_004.png\n",
      "Fichier uploadé : ../data/dataset1/images_labels/train/images/50_005.png\n",
      "Fichier uploadé : ../data/dataset1/images_labels/train/images/50_011.png\n",
      "Fichier uploadé : ../data/dataset1/images_labels/train/images/50_013.png\n",
      "Fichier uploadé : ../data/dataset1/images_labels/train/images/50_012.png\n",
      "Fichier uploadé : ../data/dataset1/images_labels/train/images/30_015.png\n",
      "Fichier uploadé : ../data/dataset1/images_labels/train/images/50_003.png\n",
      "Fichier uploadé : ../data/dataset1/images_labels/train/images/50_014.png\n",
      "Fichier uploadé : ../data/dataset1/images_labels/train/images/50_009.png\n",
      "Fichier uploadé : ../data/dataset1/images_labels/train/images/30_001.png\n",
      "Fichier uploadé : ../data/dataset1/images_labels/train/images/30_003.png\n",
      "Fichier uploadé : ../data/dataset1/images_labels/train/images/50_019.png\n",
      "Fichier uploadé : ../data/dataset1/images_labels/train/images/50_007.png\n",
      "Fichier uploadé : ../data/dataset1/images_labels/train/images/50_017.png\n",
      "Fichier uploadé : ../data/dataset1/images_labels/train/images/30_016.png\n",
      "Fichier uploadé : ../data/dataset1/images_labels/train/images/30_012.png\n",
      "Fichier uploadé : ../data/dataset1/images_labels/train/images/50_020.png\n",
      "Fichier uploadé : ../data/dataset1/images_labels/train/images/30_014.png\n",
      "Fichier uploadé : ../data/dataset1/images_labels/train/notes.json\n",
      "Fichier uploadé : ../data/dataset1/images_labels/train/classes.txt\n",
      "Fichier uploadé : ../data/dataset1/images_labels/train/labels.cache\n",
      "Fichier uploadé : ../data/dataset1/images_labels/val/labels/50_003.txt\n",
      "Fichier uploadé : ../data/dataset1/images_labels/val/labels/30_004.txt\n",
      "Fichier uploadé : ../data/dataset1/images_labels/val/labels/30_003.txt\n",
      "Fichier uploadé : ../data/dataset1/images_labels/val/labels/50_002.txt\n",
      "Fichier uploadé : ../data/dataset1/images_labels/val/labels/50_005.txt\n",
      "Fichier uploadé : ../data/dataset1/images_labels/val/labels/30_005.txt\n",
      "Fichier uploadé : ../data/dataset1/images_labels/val/labels/50_004.txt\n",
      "Fichier uploadé : ../data/dataset1/images_labels/val/labels/30_002.txt\n",
      "Fichier uploadé : ../data/dataset1/images_labels/val/labels/50_001.txt\n",
      "Fichier uploadé : ../data/dataset1/images_labels/val/labels/30_001.txt\n",
      "Fichier uploadé : ../data/dataset1/images_labels/val/images/50_002.png\n",
      "Fichier uploadé : ../data/dataset1/images_labels/val/images/30_005.png\n",
      "Fichier uploadé : ../data/dataset1/images_labels/val/images/30_002.png\n",
      "Fichier uploadé : ../data/dataset1/images_labels/val/images/50_001.png\n",
      "Fichier uploadé : ../data/dataset1/images_labels/val/images/30_004.png\n",
      "Fichier uploadé : ../data/dataset1/images_labels/val/images/50_004.png\n",
      "Fichier uploadé : ../data/dataset1/images_labels/val/images/50_005.png\n",
      "Fichier uploadé : ../data/dataset1/images_labels/val/images/50_003.png\n",
      "Fichier uploadé : ../data/dataset1/images_labels/val/images/30_001.png\n",
      "Fichier uploadé : ../data/dataset1/images_labels/val/images/30_003.png\n",
      "Fichier uploadé : ../data/dataset1/images_labels/val/notes.json\n",
      "Fichier uploadé : ../data/dataset1/images_labels/val/classes.txt\n",
      "Fichier uploadé : ../data/dataset1/images_labels/val/labels.cache\n",
      "Fichier uploadé : ../data/dataset1/data.yaml\n"
     ]
    }
   ],
   "source": [
    "upload_dataset(\"dataset1\")"
   ]
  }
 ],
 "metadata": {
  "kernelspec": {
   "display_name": "projet_developpement_application_IA_embarquee",
   "language": "python",
   "name": "python3"
  },
  "language_info": {
   "codemirror_mode": {
    "name": "ipython",
    "version": 3
   },
   "file_extension": ".py",
   "mimetype": "text/x-python",
   "name": "python",
   "nbconvert_exporter": "python",
   "pygments_lexer": "ipython3",
   "version": "3.9.20"
  }
 },
 "nbformat": 4,
 "nbformat_minor": 2
}
