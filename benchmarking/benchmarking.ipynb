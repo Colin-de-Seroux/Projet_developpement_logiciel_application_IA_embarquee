{
 "cells": [
  {
   "cell_type": "markdown",
   "metadata": {},
   "source": [
    "# Benchmarking\n"
   ]
  },
  {
   "cell_type": "markdown",
   "metadata": {},
   "source": [
    "## <span style=\"color:lightblue\">Installation des dépendances</span>\n"
   ]
  },
  {
   "cell_type": "code",
   "execution_count": 37,
   "metadata": {},
   "outputs": [
    {
     "name": "stdout",
     "output_type": "stream",
     "text": [
      "Requirement already satisfied: matplotlib in c:\\users\\colin\\miniconda3\\envs\\projet-dev-ia-embarquee\\lib\\site-packages (from -r requirements.txt (line 1)) (3.9.3)\n",
      "Requirement already satisfied: numpy in c:\\users\\colin\\miniconda3\\envs\\projet-dev-ia-embarquee\\lib\\site-packages (from -r requirements.txt (line 2)) (1.26.4)\n",
      "Requirement already satisfied: pycocotools in c:\\users\\colin\\miniconda3\\envs\\projet-dev-ia-embarquee\\lib\\site-packages (from -r requirements.txt (line 3)) (2.0.8)\n",
      "Requirement already satisfied: scikit-learn in c:\\users\\colin\\miniconda3\\envs\\projet-dev-ia-embarquee\\lib\\site-packages (from -r requirements.txt (line 4)) (1.6.1)\n",
      "Requirement already satisfied: seaborn in c:\\users\\colin\\miniconda3\\envs\\projet-dev-ia-embarquee\\lib\\site-packages (from -r requirements.txt (line 5)) (0.13.2)\n",
      "Requirement already satisfied: contourpy>=1.0.1 in c:\\users\\colin\\miniconda3\\envs\\projet-dev-ia-embarquee\\lib\\site-packages (from matplotlib->-r requirements.txt (line 1)) (1.3.0)\n",
      "Requirement already satisfied: cycler>=0.10 in c:\\users\\colin\\miniconda3\\envs\\projet-dev-ia-embarquee\\lib\\site-packages (from matplotlib->-r requirements.txt (line 1)) (0.12.1)\n",
      "Requirement already satisfied: fonttools>=4.22.0 in c:\\users\\colin\\miniconda3\\envs\\projet-dev-ia-embarquee\\lib\\site-packages (from matplotlib->-r requirements.txt (line 1)) (4.55.1)\n",
      "Requirement already satisfied: kiwisolver>=1.3.1 in c:\\users\\colin\\miniconda3\\envs\\projet-dev-ia-embarquee\\lib\\site-packages (from matplotlib->-r requirements.txt (line 1)) (1.4.7)\n",
      "Requirement already satisfied: packaging>=20.0 in c:\\users\\colin\\miniconda3\\envs\\projet-dev-ia-embarquee\\lib\\site-packages (from matplotlib->-r requirements.txt (line 1)) (23.2)\n",
      "Requirement already satisfied: pillow>=8 in c:\\users\\colin\\miniconda3\\envs\\projet-dev-ia-embarquee\\lib\\site-packages (from matplotlib->-r requirements.txt (line 1)) (11.0.0)\n",
      "Requirement already satisfied: pyparsing>=2.3.1 in c:\\users\\colin\\miniconda3\\envs\\projet-dev-ia-embarquee\\lib\\site-packages (from matplotlib->-r requirements.txt (line 1)) (3.2.0)\n",
      "Requirement already satisfied: python-dateutil>=2.7 in c:\\users\\colin\\miniconda3\\envs\\projet-dev-ia-embarquee\\lib\\site-packages (from matplotlib->-r requirements.txt (line 1)) (2.9.0.post0)\n",
      "Requirement already satisfied: importlib-resources>=3.2.0 in c:\\users\\colin\\miniconda3\\envs\\projet-dev-ia-embarquee\\lib\\site-packages (from matplotlib->-r requirements.txt (line 1)) (6.4.5)\n",
      "Requirement already satisfied: scipy>=1.6.0 in c:\\users\\colin\\miniconda3\\envs\\projet-dev-ia-embarquee\\lib\\site-packages (from scikit-learn->-r requirements.txt (line 4)) (1.13.1)\n",
      "Requirement already satisfied: joblib>=1.2.0 in c:\\users\\colin\\miniconda3\\envs\\projet-dev-ia-embarquee\\lib\\site-packages (from scikit-learn->-r requirements.txt (line 4)) (1.4.2)\n",
      "Requirement already satisfied: threadpoolctl>=3.1.0 in c:\\users\\colin\\miniconda3\\envs\\projet-dev-ia-embarquee\\lib\\site-packages (from scikit-learn->-r requirements.txt (line 4)) (3.5.0)\n",
      "Requirement already satisfied: pandas>=1.2 in c:\\users\\colin\\miniconda3\\envs\\projet-dev-ia-embarquee\\lib\\site-packages (from seaborn->-r requirements.txt (line 5)) (2.2.3)\n",
      "Requirement already satisfied: zipp>=3.1.0 in c:\\users\\colin\\miniconda3\\envs\\projet-dev-ia-embarquee\\lib\\site-packages (from importlib-resources>=3.2.0->matplotlib->-r requirements.txt (line 1)) (3.21.0)\n",
      "Requirement already satisfied: pytz>=2020.1 in c:\\users\\colin\\miniconda3\\envs\\projet-dev-ia-embarquee\\lib\\site-packages (from pandas>=1.2->seaborn->-r requirements.txt (line 5)) (2024.2)\n",
      "Requirement already satisfied: tzdata>=2022.7 in c:\\users\\colin\\miniconda3\\envs\\projet-dev-ia-embarquee\\lib\\site-packages (from pandas>=1.2->seaborn->-r requirements.txt (line 5)) (2024.2)\n",
      "Requirement already satisfied: six>=1.5 in c:\\users\\colin\\miniconda3\\envs\\projet-dev-ia-embarquee\\lib\\site-packages (from python-dateutil>=2.7->matplotlib->-r requirements.txt (line 1)) (1.16.0)\n",
      "Note: you may need to restart the kernel to use updated packages.\n"
     ]
    }
   ],
   "source": [
    "%pip install -r requirements.txt"
   ]
  },
  {
   "cell_type": "markdown",
   "metadata": {},
   "source": [
    "## <span style=\"color:lightblue\">Importation des dépendances</span>\n"
   ]
  },
  {
   "cell_type": "code",
   "execution_count": 38,
   "metadata": {},
   "outputs": [],
   "source": [
    "import numpy as np\n",
    "from pycocotools.coco import COCO\n",
    "from pycocotools.cocoeval import COCOeval\n",
    "from sklearn.metrics import confusion_matrix\n",
    "\n",
    "from utils import extract_annotations_from_file, extract_predictions_from_file, evaluate_metrics, display_metrics, prepare_confusion_matrix, plot_confusion_matrix"
   ]
  },
  {
   "cell_type": "markdown",
   "metadata": {},
   "source": [
    "## <span style=\"color:lightblue\">Code principale</span>\n"
   ]
  },
  {
   "cell_type": "markdown",
   "metadata": {},
   "source": [
    "### <span style=\"color:lightgreen\">Environnement</span>\n"
   ]
  },
  {
   "cell_type": "code",
   "execution_count": 39,
   "metadata": {},
   "outputs": [],
   "source": [
    "ANNOTATIONS_FILE_PATH = \"annotations.json\"\n",
    "PREDICTIONS_FILE_PATH = \"predictions.json\""
   ]
  },
  {
   "cell_type": "markdown",
   "metadata": {},
   "source": [
    "### <span style=\"color:lightgreen\">Récupération des données</span>\n"
   ]
  },
  {
   "cell_type": "code",
   "execution_count": 40,
   "metadata": {},
   "outputs": [
    {
     "name": "stdout",
     "output_type": "stream",
     "text": [
      "loading annotations into memory...\n",
      "Done (t=0.00s)\n",
      "creating index...\n",
      "index created!\n",
      "loading annotations into memory...\n",
      "Done (t=0.00s)\n",
      "creating index...\n",
      "index created!\n",
      "loading annotations into memory...\n",
      "Done (t=0.00s)\n",
      "creating index...\n",
      "index created!\n",
      "Loading and preparing results...\n",
      "DONE (t=0.00s)\n",
      "creating index...\n",
      "index created!\n"
     ]
    }
   ],
   "source": [
    "y_true, class_names = extract_annotations_from_file(ANNOTATIONS_FILE_PATH)\n",
    "y_pred, y_scores = extract_predictions_from_file(ANNOTATIONS_FILE_PATH, PREDICTIONS_FILE_PATH)\n",
    "coco_annotations = COCO(ANNOTATIONS_FILE_PATH)\n",
    "coco_predictions = coco_annotations.loadRes(PREDICTIONS_FILE_PATH)"
   ]
  },
  {
   "cell_type": "markdown",
   "metadata": {},
   "source": [
    "### <span style=\"color:lightgreen\">mAP</span>\n"
   ]
  },
  {
   "cell_type": "markdown",
   "metadata": {},
   "source": [
    "Initialiser l'évaluation\n"
   ]
  },
  {
   "cell_type": "code",
   "execution_count": 41,
   "metadata": {},
   "outputs": [],
   "source": [
    "coco_eval = COCOeval(coco_annotations, coco_predictions, iouType=\"bbox\")"
   ]
  },
  {
   "cell_type": "markdown",
   "metadata": {},
   "source": [
    "Calculer le mAP\n"
   ]
  },
  {
   "cell_type": "code",
   "execution_count": 42,
   "metadata": {},
   "outputs": [
    {
     "name": "stdout",
     "output_type": "stream",
     "text": [
      "Running per image evaluation...\n",
      "Evaluate annotation type *bbox*\n",
      "DONE (t=0.00s).\n",
      "Accumulating evaluation results...\n",
      "DONE (t=0.00s).\n",
      " Average Precision  (AP) @[ IoU=0.50:0.95 | area=   all | maxDets=100 ] = 0.084\n",
      " Average Precision  (AP) @[ IoU=0.50      | area=   all | maxDets=100 ] = 0.084\n",
      " Average Precision  (AP) @[ IoU=0.75      | area=   all | maxDets=100 ] = 0.084\n",
      " Average Precision  (AP) @[ IoU=0.50:0.95 | area= small | maxDets=100 ] = -1.000\n",
      " Average Precision  (AP) @[ IoU=0.50:0.95 | area=medium | maxDets=100 ] = -1.000\n",
      " Average Precision  (AP) @[ IoU=0.50:0.95 | area= large | maxDets=100 ] = 0.084\n",
      " Average Recall     (AR) @[ IoU=0.50:0.95 | area=   all | maxDets=  1 ] = 0.167\n",
      " Average Recall     (AR) @[ IoU=0.50:0.95 | area=   all | maxDets= 10 ] = 0.167\n",
      " Average Recall     (AR) @[ IoU=0.50:0.95 | area=   all | maxDets=100 ] = 0.167\n",
      " Average Recall     (AR) @[ IoU=0.50:0.95 | area= small | maxDets=100 ] = -1.000\n",
      " Average Recall     (AR) @[ IoU=0.50:0.95 | area=medium | maxDets=100 ] = -1.000\n",
      " Average Recall     (AR) @[ IoU=0.50:0.95 | area= large | maxDets=100 ] = 0.167\n"
     ]
    }
   ],
   "source": [
    "coco_eval.evaluate()\n",
    "coco_eval.accumulate()\n",
    "coco_eval.summarize()"
   ]
  },
  {
   "cell_type": "markdown",
   "metadata": {},
   "source": [
    "### <span style=\"color:lightgreen\">F1 Score</span>\n"
   ]
  },
  {
   "cell_type": "code",
   "execution_count": 43,
   "metadata": {},
   "outputs": [
    {
     "name": "stdout",
     "output_type": "stream",
     "text": [
      "|-------------------------------------------|\n",
      "| IoU | mAP | F1-Score | Precision | Recall |\n",
      "|-----|-----|----------|-----------|--------|\n",
      "| 0.50|8.42|      0.09|       0.11|    0.08|\n",
      "| 0.55|8.42|      0.09|       0.11|    0.08|\n",
      "| 0.60|8.42|      0.09|       0.11|    0.08|\n",
      "| 0.65|8.42|      0.09|       0.11|    0.08|\n",
      "| 0.70|8.42|      0.09|       0.11|    0.08|\n",
      "| 0.75|8.42|      0.09|       0.11|    0.08|\n",
      "| 0.80|8.42|      0.09|       0.11|    0.08|\n",
      "| 0.85|8.42|      0.09|       0.11|    0.08|\n",
      "| 0.90|8.42|      0.09|       0.11|    0.08|\n",
      "| 0.95|8.42|      0.09|       0.11|    0.08|\n",
      "\n",
      "|-------------------------------------------|\n",
      "| Class Name : ocelot\n",
      "|-------------------------------------------|\n",
      "| IoU | mAP | F1-Score | Precision | Recall |\n",
      "|-----|-----|----------|-----------|--------|\n",
      "| 0.50|8.42|      0.09|       0.11|    0.08|\n",
      "| 0.55|8.42|      0.09|       0.11|    0.08|\n",
      "| 0.60|8.42|      0.09|       0.11|    0.08|\n",
      "| 0.65|8.42|      0.09|       0.11|    0.08|\n",
      "| 0.70|8.42|      0.09|       0.11|    0.08|\n",
      "| 0.75|8.42|      0.09|       0.11|    0.08|\n",
      "| 0.80|8.42|      0.09|       0.11|    0.08|\n",
      "| 0.85|8.42|      0.09|       0.11|    0.08|\n",
      "| 0.90|8.42|      0.09|       0.11|    0.08|\n",
      "| 0.95|8.42|      0.09|       0.11|    0.08|\n",
      "\n",
      "|-------------------------------------------|\n",
      "| Class Name : lynx\n",
      "|-------------------------------------------|\n",
      "| IoU | mAP | F1-Score | Precision | Recall |\n",
      "|-----|-----|----------|-----------|--------|\n",
      "| 0.50|8.42|      0.09|       0.11|    0.08|\n",
      "| 0.55|8.42|      0.09|       0.11|    0.08|\n",
      "| 0.60|8.42|      0.09|       0.11|    0.08|\n",
      "| 0.65|8.42|      0.09|       0.11|    0.08|\n",
      "| 0.70|8.42|      0.09|       0.11|    0.08|\n",
      "| 0.75|8.42|      0.09|       0.11|    0.08|\n",
      "| 0.80|8.42|      0.09|       0.11|    0.08|\n",
      "| 0.85|8.42|      0.09|       0.11|    0.08|\n",
      "| 0.90|8.42|      0.09|       0.11|    0.08|\n",
      "| 0.95|8.42|      0.09|       0.11|    0.08|\n"
     ]
    }
   ],
   "source": [
    "precision, recall, scores, iou_lookup = evaluate_metrics(coco_eval)\n",
    "display_metrics(precision, recall, scores, iou_lookup, class_name=None)\n",
    "\n",
    "for cat in coco_annotations.loadCats(coco_annotations.getCatIds()):\n",
    "        coco_eval.params.catIds = [cat[\"id\"]]\n",
    "        precision, recall, scores, iou_lookup = evaluate_metrics(coco_eval)\n",
    "        display_metrics(precision, recall, scores, iou_lookup, class_name=cat[\"name\"])"
   ]
  },
  {
   "cell_type": "markdown",
   "metadata": {},
   "source": [
    "### <span style=\"color:lightgreen\">Matrice de confusion</span>\n"
   ]
  },
  {
   "cell_type": "markdown",
   "metadata": {},
   "source": [
    "Ajout d'une classe 'nothing' lorsque rien n'est détecté.\n"
   ]
  },
  {
   "cell_type": "code",
   "execution_count": 44,
   "metadata": {},
   "outputs": [],
   "source": [
    "class_names.append(\"nothing\")"
   ]
  },
  {
   "cell_type": "markdown",
   "metadata": {},
   "source": [
    "Préparation des données pour la matrice de confusion.\n"
   ]
  },
  {
   "cell_type": "code",
   "execution_count": 45,
   "metadata": {},
   "outputs": [],
   "source": [
    "y_true_flat, y_pred_flat, classes = prepare_confusion_matrix(y_true, y_pred)"
   ]
  },
  {
   "cell_type": "markdown",
   "metadata": {},
   "source": [
    "Calcul de la matrice de confusion.\n"
   ]
  },
  {
   "cell_type": "code",
   "execution_count": 46,
   "metadata": {},
   "outputs": [],
   "source": [
    "cm = confusion_matrix(y_true_flat, y_pred_flat, labels=classes)"
   ]
  },
  {
   "cell_type": "markdown",
   "metadata": {},
   "source": [
    "Afficher la matrice de confusion.\n"
   ]
  },
  {
   "cell_type": "code",
   "execution_count": 47,
   "metadata": {},
   "outputs": [
    {
     "data": {
      "image/png": "[encoded data removed]",
      "text/plain": [
       "<Figure size 800x600 with 2 Axes>"
      ]
     },
     "metadata": {},
     "output_type": "display_data"
    }
   ],
   "source": [
    "plot_confusion_matrix(cm, \"d\", class_names, \"Matrice de confusion\")"
   ]
  },
  {
   "cell_type": "markdown",
   "metadata": {},
   "source": [
    "Afficher la matrice de confusion normalisée.\n"
   ]
  },
  {
   "cell_type": "code",
   "execution_count": 48,
   "metadata": {},
   "outputs": [
    {
     "data": {
      "image/png": "[encoded data removed]",
      "text/plain": [
       "<Figure size 800x600 with 2 Axes>"
      ]
     },
     "metadata": {},
     "output_type": "display_data"
    }
   ],
   "source": [
    "cm_normalized = cm.astype(\"float\") / cm.sum(axis=1)[:, np.newaxis]\n",
    "\n",
    "plot_confusion_matrix(cm_normalized, \".2f\", class_names, \"Matrice de confusion normalisée\")"
   ]
  }
 ],
 "metadata": {
  "kernelspec": {
   "display_name": "projet-dev-ia-embarquee",
   "language": "python",
   "name": "python3"
  },
  "language_info": {
   "codemirror_mode": {
    "name": "ipython",
    "version": 3
   },
   "file_extension": ".py",
   "mimetype": "text/x-python",
   "name": "python",
   "nbconvert_exporter": "python",
   "pygments_lexer": "ipython3",
   "version": "3.9.20"
  }
 },
 "nbformat": 4,
 "nbformat_minor": 2
}
